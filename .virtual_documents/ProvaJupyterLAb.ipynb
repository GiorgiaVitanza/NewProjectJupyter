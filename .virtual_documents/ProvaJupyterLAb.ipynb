import pandas as pd



pd?



!pip install matplotlib



from matplotlib import pyplot as plt


a = list(range(10))
b = [n**2 for n in a]


plt.plot(a,b)
plt.show()


plt.bar(a,b)
plt.show()


labels = ['Sì', 'No']
plt.pie([10,90],labels=labels)
plt.show()


pie?



plt.pie


DataFrame?



pd.DataFrame?







