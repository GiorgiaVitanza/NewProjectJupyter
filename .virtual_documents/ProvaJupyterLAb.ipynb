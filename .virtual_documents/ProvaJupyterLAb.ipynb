import pandas as pd



pd?



!pip install matplotlib



from matplotlib import pyplot as plt


a = list(range(10))
b = [n**2 for n in a]


plt.plot(a,b)
plt.show()


plt.bar(a,b)
plt.show()


labels = ['Sì', 'No']
plt.pie([10,90],labels=labels)
plt.show()


pie?



plt.pie


DataFrame?



pd.DataFrame?



import pandas as pd
from matplotlib import pyplot as plt
df = pd.read_csv("soggetti-guariti.csv")
df = df.loc[:,["area","reg","eta","guariti_senza_somm","guariti_post_somm","guariti_post_1booster","guariti_post_2booster"]]
sizes = [sum(df["guariti_senza_somm"]),sum(df["guariti_post_somm"]),sum(df["guariti_post_1booster"]),sum(df["guariti_post_2booster"])]
labels = ["guariti_senza_somm","guariti_post_somm","guariti_post_1booster","guariti_post_2booster"]
plt.pie(sizes, labels = labels)
plt.show()

         



