print("hello world!")



!ls


!dir


text = !dir


print(text)


obj = range(10)
%timeit [num for num in obj]











%%timeit
for num in obj:
    num



