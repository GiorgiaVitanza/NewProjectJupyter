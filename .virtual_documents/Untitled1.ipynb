import pandas as pd


url = 'https://raw.githubusercontent.com/datasciencedojo/datasets/master/titanic.csv'
df = pd.read_csv(url)


df.info()


df.head()



df.isnull()


df.isnull().count()




df.isnull().sum()







df.describe()


df['Age']


df['Age'].fillna(df['Age'].median())





df.drop(columns=['Cabin'], inplace = True)


df






!pip install seaborn






import seaborn as sns


sns.countplot(x = "Survived", data = df)


sns.histplot(df['Age'],bins=20)



