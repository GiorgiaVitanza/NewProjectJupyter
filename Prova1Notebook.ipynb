{
 "cells": [
  {
   "cell_type": "code",
   "execution_count": 1,
   "id": "04f484df-6ed1-4073-9bfb-0e31903f277d",
   "metadata": {},
   "outputs": [
    {
     "name": "stdout",
     "output_type": "stream",
     "text": [
      "hello world!\n"
     ]
    }
   ],
   "source": [
    "print(\"hello world!\")\n"
   ]
  },
  {
   "cell_type": "code",
   "execution_count": 2,
   "id": "e7c35b3e-83d3-4a56-ad96-b55907d5d783",
   "metadata": {},
   "outputs": [
    {
     "name": "stderr",
     "output_type": "stream",
     "text": [
      "\"ls\" non Š riconosciuto come comando interno o esterno,\n",
      " un programma eseguibile o un file batch.\n"
     ]
    }
   ],
   "source": [
    "!ls"
   ]
  },
  {
   "cell_type": "code",
   "execution_count": 3,
   "id": "ef70e827-92ca-4075-a80d-3b060e7a039f",
   "metadata": {},
   "outputs": [
    {
     "name": "stdout",
     "output_type": "stream",
     "text": [
      " Il volume nell'unit… C Š Windows-SSD\n",
      " Numero di serie del volume: 56F5-4F5E\n",
      "\n",
      " Directory di C:\\Users\\316970\\.vscode\\NewProjectJupyter\n",
      "\n",
      "07/02/2025  11:53    <DIR>          .\n",
      "07/02/2025  10:58    <DIR>          ..\n",
      "07/02/2025  11:00    <DIR>          .env\n",
      "07/02/2025  11:42    <DIR>          .ipynb_checkpoints\n",
      "07/02/2025  11:53               927 Untitled.ipynb\n",
      "07/02/2025  11:42                72 Untitled1.ipynb\n",
      "               2 File            999 byte\n",
      "               4 Directory  396.997.595.136 byte disponibili\n"
     ]
    }
   ],
   "source": [
    "!dir"
   ]
  },
  {
   "cell_type": "code",
   "execution_count": 4,
   "id": "2a4869e3-bfe3-4ef0-856f-42a216119904",
   "metadata": {},
   "outputs": [],
   "source": [
    "text = !dir"
   ]
  },
  {
   "cell_type": "code",
   "execution_count": 5,
   "id": "5e41cfdb-f351-4f81-bfa8-d3657a2bb6b5",
   "metadata": {},
   "outputs": [
    {
     "name": "stdout",
     "output_type": "stream",
     "text": [
      "[\" Il volume nell'unit… C Š Windows-SSD\", ' Numero di serie del volume: 56F5-4F5E', '', ' Directory di C:\\\\Users\\\\316970\\\\.vscode\\\\NewProjectJupyter', '', '07/02/2025  11:53    <DIR>          .', '07/02/2025  10:58    <DIR>          ..', '07/02/2025  11:00    <DIR>          .env', '07/02/2025  11:42    <DIR>          .ipynb_checkpoints', '07/02/2025  11:53               927 Untitled.ipynb', '07/02/2025  11:42                72 Untitled1.ipynb', '               2 File            999 byte', '               4 Directory  396.997.238.784 byte disponibili']\n"
     ]
    }
   ],
   "source": [
    "print(text)"
   ]
  },
  {
   "cell_type": "code",
   "execution_count": 6,
   "id": "fc03e105-ad79-4ba4-9933-a097cfe23c69",
   "metadata": {},
   "outputs": [
    {
     "name": "stdout",
     "output_type": "stream",
     "text": [
      "315 ns ± 71.3 ns per loop (mean ± std. dev. of 7 runs, 1,000,000 loops each)\n"
     ]
    }
   ],
   "source": [
    "obj = range(10)\n",
    "%timeit [num for num in obj]"
   ]
  },
  {
   "cell_type": "code",
   "execution_count": null,
   "id": "e5f0305d-01af-496c-9b9e-3b8c4c7d8647",
   "metadata": {},
   "outputs": [],
   "source": []
  },
  {
   "cell_type": "markdown",
   "id": "0c382fbb-3431-4ef7-b070-9064090a90a6",
   "metadata": {},
   "source": [
    "Posso scrivere dei commenti utilizzando Markdown anzichè code.\n",
    "#Titolo\n",
    "##Sottotitolo"
   ]
  },
  {
   "cell_type": "markdown",
   "id": "ae24362c-8647-4003-bdee-71eb5f470a16",
   "metadata": {},
   "source": [
    "#Titolo"
   ]
  },
  {
   "cell_type": "code",
   "execution_count": 7,
   "id": "69b629eb-40fa-40d4-9d78-8d1792ef5cbc",
   "metadata": {},
   "outputs": [
    {
     "name": "stdout",
     "output_type": "stream",
     "text": [
      "253 ns ± 43.2 ns per loop (mean ± std. dev. of 7 runs, 1,000,000 loops each)\n"
     ]
    }
   ],
   "source": [
    "%%timeit\n",
    "for num in obj:\n",
    "    num"
   ]
  },
  {
   "cell_type": "code",
   "execution_count": null,
   "id": "df39da6c-0b7e-4824-bfa3-418ec50a0fb0",
   "metadata": {},
   "outputs": [],
   "source": []
  }
 ],
 "metadata": {
  "kernelspec": {
   "display_name": "Python 3 (ipykernel)",
   "language": "python",
   "name": "python3"
  },
  "language_info": {
   "codemirror_mode": {
    "name": "ipython",
    "version": 3
   },
   "file_extension": ".py",
   "mimetype": "text/x-python",
   "name": "python",
   "nbconvert_exporter": "python",
   "pygments_lexer": "ipython3",
   "version": "3.13.1"
  }
 },
 "nbformat": 4,
 "nbformat_minor": 5
}
